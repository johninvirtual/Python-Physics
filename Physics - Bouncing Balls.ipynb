{
 "cells": [
  {
   "cell_type": "markdown",
   "metadata": {},
   "source": [
    "<h2>Importing necessary function</h2>"
   ]
  },
  {
   "cell_type": "code",
   "execution_count": 1,
   "metadata": {},
   "outputs": [],
   "source": [
    "import numpy as np\n",
    "import random as r\n",
    "import cv2\n",
    "import time"
   ]
  },
  {
   "cell_type": "markdown",
   "metadata": {},
   "source": [
    "### Vector"
   ]
  },
  {
   "cell_type": "code",
   "execution_count": 2,
   "metadata": {},
   "outputs": [],
   "source": [
    "class Vector:\n",
    "    def __init__(self, x, y):\n",
    "        self.vector = np.array([x,y])\n",
    "    \n",
    "    #normal adiition\n",
    "    def __add__(self, a):\n",
    "        return self.vector + a\n",
    "    \n",
    "    #normal subtraction\n",
    "    def __sub__(self, a):\n",
    "        return self.vector - a\n",
    "    \n",
    "    #normal multiplication\n",
    "    def __mul__(self, a):\n",
    "        return self.vector * a\n",
    "    \n",
    "    #normal divition\n",
    "    def __truediv__(self, a):\n",
    "        return self.vector /a\n",
    "    \n",
    "    #vector addition\n",
    "    def add(self, a):\n",
    "        return self.vector + a.vector\n",
    "    \n",
    "    #vector subtraction\n",
    "    def sub(self, a):\n",
    "        return self.vector - a.vector\n",
    "    \n",
    "    #vector multiplication\n",
    "    def mul(self, a):\n",
    "        return self.vector * a.vector\n",
    "    \n",
    "    #vector division\n",
    "    def div(self, a):\n",
    "        return self.vector / a.vector\n",
    "    \n",
    "    #to tuple\n",
    "    def toTuple(self):\n",
    "        return tuple(np.rint(self.vector).astype(int))"
   ]
  },
  {
   "cell_type": "markdown",
   "metadata": {},
   "source": [
    "<h3>Creating a class for Ball</h3>"
   ]
  },
  {
   "cell_type": "code",
   "execution_count": 20,
   "metadata": {},
   "outputs": [],
   "source": [
    "class Ball:\n",
    "    def __init__(self, x, y, mass):\n",
    "        # essential physical property\n",
    "        self.position = Vector(x,y)\n",
    "        self.mass = mass\n",
    "        self.acceleration = Vector(0,0)\n",
    "        self.velocity = Vector(0,0)\n",
    "        \n",
    "        # color\n",
    "        red = r.randint(0,256)\n",
    "        green = r.randint(0,200)\n",
    "        blue = r.randint(0,200)\n",
    "        self.color = np.array([blue,green,red])\n",
    "    \n",
    "    # appling force\n",
    "    def applyForce(self, force):\n",
    "        f = force / self.mass\n",
    "        self.acceleration += f\n",
    "    \n",
    "    # updating physics eqn\n",
    "    def update(self):\n",
    "        self.velocity += (self.acceleration)\n",
    "        self.position += (self.velocity)\n",
    "        self.acceleration *= 0\n",
    "    \n",
    "    # checking for edge collision\n",
    "    def checkEdge(self):\n",
    "        if self.position[0] > width:\n",
    "            self.position[0] = width\n",
    "            self.velocity[0] *= -1\n",
    "        elif self.position[0] < 0:\n",
    "            self.position[0] = 0\n",
    "            self.velocity[0] *= -1\n",
    "        if self.position[1] > height:\n",
    "            self.position[1] = height\n",
    "            self.velocity[1] *= -1"
   ]
  },
  {
   "cell_type": "markdown",
   "metadata": {},
   "source": [
    "<h3>Creating ball objects</h3>"
   ]
  },
  {
   "cell_type": "code",
   "execution_count": 4,
   "metadata": {},
   "outputs": [],
   "source": [
    "# creating ball \n",
    "def create_balls(total_ball):\n",
    "    global balls\n",
    "    #creating balls\n",
    "    for i in range(0,total_ball):\n",
    "        balls.append(Ball(r.randint(0,width), r.randint(0,height),\n",
    "                         r.randint(5,20)))"
   ]
  },
  {
   "cell_type": "markdown",
   "metadata": {},
   "source": [
    "<h2>OpenCV area -- # handle with care</h2>"
   ]
  },
  {
   "cell_type": "code",
   "execution_count": 30,
   "metadata": {},
   "outputs": [],
   "source": [
    "#creating a image\n",
    "width, height = 512, 512\n",
    "img = np.zeros((width,height,3), np.uint8)\n",
    "img_copy = np.copy(img)\n",
    "\n",
    "#initializing balls list and creating ball\n",
    "balls = [] \n",
    "create_balls(10)\n",
    "\n",
    "#creating a window\n",
    "cv2.namedWindow(winname='physics')\n",
    "\n",
    "while True:\n",
    "    img = np.copy(img_copy)\n",
    "    \n",
    "        \n",
    "    #adding circles for balls\n",
    "    for ball in balls:\n",
    "        #applying physics and other function\n",
    "        ball.applyForce(Vector(0,9.8))  # gravity\n",
    "        ball.applyForce(Vector(1,0))  # wind\n",
    "        ball.update()\n",
    "        ball.checkEdge()\n",
    "        cv2.circle(img,\n",
    "                   (tuple((ball.position).astype(int))),\n",
    "                   ball.mass,\n",
    "                   tuple(map(int,((ball.color).astype(np.uint8)))),\n",
    "                   -1)\n",
    "        \n",
    "        \n",
    "    #create image window\n",
    "    cv2.imshow('physics', img)\n",
    "    #terminating the window\n",
    "    if cv2.waitKey(20) & 0xFF ==27:\n",
    "        break\n",
    "        \n",
    "    #adding sleep time for fps\n",
    "    fps = 120\n",
    "    time.sleep(1/fps)\n",
    "    \n",
    "\n",
    "#clearing the window\n",
    "cv2.destroyAllWindows()"
   ]
  },
  {
   "cell_type": "code",
   "execution_count": 6,
   "metadata": {},
   "outputs": [],
   "source": []
  }
 ],
 "metadata": {
  "kernelspec": {
   "display_name": "Python 3",
   "language": "python",
   "name": "python3"
  },
  "language_info": {
   "codemirror_mode": {
    "name": "ipython",
    "version": 3
   },
   "file_extension": ".py",
   "mimetype": "text/x-python",
   "name": "python",
   "nbconvert_exporter": "python",
   "pygments_lexer": "ipython3",
   "version": "3.7.4"
  }
 },
 "nbformat": 4,
 "nbformat_minor": 2
}
